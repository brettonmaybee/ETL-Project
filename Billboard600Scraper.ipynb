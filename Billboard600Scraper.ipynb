{
 "cells": [
  {
   "cell_type": "code",
   "execution_count": 7,
   "metadata": {},
   "outputs": [],
   "source": [
    "# Dependencies\n",
    "from bs4 import BeautifulSoup\n",
    "import requests\n",
    "import pandas as pd \n",
    "import numpy as np"
   ]
  },
  {
   "cell_type": "code",
   "execution_count": 8,
   "metadata": {},
   "outputs": [],
   "source": [
    "# URL of page to be scraped\n",
    "url = 'https://www.billboard.com/charts/hot-100-60th-anniversary'\n",
    "\n",
    "# Retrieve page with the requests module\n",
    "response = requests.get(url)\n",
    "\n",
    "# Create BeautifulSoup object; parse with 'html.parser'\n",
    "soup = BeautifulSoup(response.text, 'lxml')"
   ]
  },
  {
   "cell_type": "code",
   "execution_count": 9,
   "metadata": {},
   "outputs": [],
   "source": [
    "# Retrieve the parent divs for all articles\n",
    "titles = soup.find_all(\"div\", class_=\"item-details__title\")\n",
    "artists = soup.find_all(\"div\", class_=\"item-details__artist\")\n"
   ]
  },
  {
   "cell_type": "code",
   "execution_count": 10,
   "metadata": {},
   "outputs": [],
   "source": [
    "title_list=[]\n",
    "for title in titles:\n",
    "    title_list.append(title.text)\n",
    "\n",
    "artist_list=[]\n",
    "for artist in artists:\n",
    "    artist_list.append(artist.text)    "
   ]
  },
  {
   "cell_type": "code",
   "execution_count": 11,
   "metadata": {},
   "outputs": [
    {
     "data": {
      "text/plain": [
       "600"
      ]
     },
     "execution_count": 11,
     "metadata": {},
     "output_type": "execute_result"
    }
   ],
   "source": [
    "len(artist_list)"
   ]
  },
  {
   "cell_type": "code",
   "execution_count": 27,
   "metadata": {},
   "outputs": [
    {
     "data": {
      "text/html": [
       "<div>\n",
       "<style scoped>\n",
       "    .dataframe tbody tr th:only-of-type {\n",
       "        vertical-align: middle;\n",
       "    }\n",
       "\n",
       "    .dataframe tbody tr th {\n",
       "        vertical-align: top;\n",
       "    }\n",
       "\n",
       "    .dataframe thead th {\n",
       "        text-align: right;\n",
       "    }\n",
       "</style>\n",
       "<table border=\"1\" class=\"dataframe\">\n",
       "  <thead>\n",
       "    <tr style=\"text-align: right;\">\n",
       "      <th></th>\n",
       "      <th>Title</th>\n",
       "      <th>Artist</th>\n",
       "      <th>Date</th>\n",
       "      <th>Genre</th>\n",
       "      <th>Gender</th>\n",
       "    </tr>\n",
       "  </thead>\n",
       "  <tbody>\n",
       "    <tr>\n",
       "      <th>0</th>\n",
       "      <td>THE TWIST</td>\n",
       "      <td>Chubby Checker</td>\n",
       "      <td>1960</td>\n",
       "      <td>R&amp;B</td>\n",
       "      <td>Male</td>\n",
       "    </tr>\n",
       "    <tr>\n",
       "      <th>1</th>\n",
       "      <td>SMOOTH</td>\n",
       "      <td>Santana Featuring Rob Thomas</td>\n",
       "      <td>1999</td>\n",
       "      <td>Rock</td>\n",
       "      <td>Duo/Group</td>\n",
       "    </tr>\n",
       "    <tr>\n",
       "      <th>2</th>\n",
       "      <td>MACK THE KNIFE</td>\n",
       "      <td>Bobby Darin</td>\n",
       "      <td>1959</td>\n",
       "      <td>Pop</td>\n",
       "      <td>Male</td>\n",
       "    </tr>\n",
       "    <tr>\n",
       "      <th>3</th>\n",
       "      <td>UPTOWN FUNK!</td>\n",
       "      <td>Mark Ronson Featuring Bruno Mars</td>\n",
       "      <td>2015</td>\n",
       "      <td>Pop</td>\n",
       "      <td>Male</td>\n",
       "    </tr>\n",
       "    <tr>\n",
       "      <th>4</th>\n",
       "      <td>HOW DO I LIVE</td>\n",
       "      <td>LeAnn Rimes</td>\n",
       "      <td>1997</td>\n",
       "      <td>Country</td>\n",
       "      <td>Female</td>\n",
       "    </tr>\n",
       "    <tr>\n",
       "      <th>...</th>\n",
       "      <td>...</td>\n",
       "      <td>...</td>\n",
       "      <td>...</td>\n",
       "      <td>...</td>\n",
       "      <td>...</td>\n",
       "    </tr>\n",
       "    <tr>\n",
       "      <th>595</th>\n",
       "      <td>BLUE VELVET</td>\n",
       "      <td>Bobby Vinton</td>\n",
       "      <td>1963</td>\n",
       "      <td>Pop</td>\n",
       "      <td>Male</td>\n",
       "    </tr>\n",
       "    <tr>\n",
       "      <th>596</th>\n",
       "      <td>WILD, WILD WEST</td>\n",
       "      <td>The Escape Club</td>\n",
       "      <td>1988</td>\n",
       "      <td>Pop</td>\n",
       "      <td>Duo/Group</td>\n",
       "    </tr>\n",
       "    <tr>\n",
       "      <th>597</th>\n",
       "      <td>START ME UP</td>\n",
       "      <td>The Rolling Stones</td>\n",
       "      <td>1981</td>\n",
       "      <td>Rock</td>\n",
       "      <td>Duo/Group</td>\n",
       "    </tr>\n",
       "    <tr>\n",
       "      <th>598</th>\n",
       "      <td>BENT</td>\n",
       "      <td>matchbox twenty</td>\n",
       "      <td>2000</td>\n",
       "      <td>Rock</td>\n",
       "      <td>Duo/Group</td>\n",
       "    </tr>\n",
       "    <tr>\n",
       "      <th>599</th>\n",
       "      <td>TAKE ON ME</td>\n",
       "      <td>a-ha</td>\n",
       "      <td>1985</td>\n",
       "      <td>Pop</td>\n",
       "      <td>Duo/Group</td>\n",
       "    </tr>\n",
       "  </tbody>\n",
       "</table>\n",
       "<p>600 rows × 5 columns</p>\n",
       "</div>"
      ],
      "text/plain": [
       "               Title                            Artist  Date    Genre  \\\n",
       "0          THE TWIST                    Chubby Checker  1960      R&B   \n",
       "1             SMOOTH      Santana Featuring Rob Thomas  1999     Rock   \n",
       "2     MACK THE KNIFE                       Bobby Darin  1959      Pop   \n",
       "3       UPTOWN FUNK!  Mark Ronson Featuring Bruno Mars  2015      Pop   \n",
       "4      HOW DO I LIVE                       LeAnn Rimes  1997  Country   \n",
       "..               ...                               ...   ...      ...   \n",
       "595      BLUE VELVET                      Bobby Vinton  1963      Pop   \n",
       "596  WILD, WILD WEST                   The Escape Club  1988      Pop   \n",
       "597      START ME UP                The Rolling Stones  1981     Rock   \n",
       "598             BENT                   matchbox twenty  2000     Rock   \n",
       "599       TAKE ON ME                              a-ha  1985      Pop   \n",
       "\n",
       "        Gender  \n",
       "0         Male  \n",
       "1    Duo/Group  \n",
       "2         Male  \n",
       "3         Male  \n",
       "4       Female  \n",
       "..         ...  \n",
       "595       Male  \n",
       "596  Duo/Group  \n",
       "597  Duo/Group  \n",
       "598  Duo/Group  \n",
       "599  Duo/Group  \n",
       "\n",
       "[600 rows x 5 columns]"
      ]
     },
     "execution_count": 27,
     "metadata": {},
     "output_type": "execute_result"
    }
   ],
   "source": [
    "dates_genre_gender=soup.find_all(\"span\", class_=\"chart-list-item__all-time-data-cell\")\n",
    "\n",
    "data_list=[]\n",
    "\n",
    "for data in dates_genre_gender:\n",
    "    data_list.append(data.text.strip())\n",
    "\n",
    "dates=[]\n",
    "genre=[]\n",
    "gender=[]\n",
    "\n",
    "dates.append(data_list[::3])\n",
    "genre.append(data_list[1::3])\n",
    "gender.append(data_list[2::3])\n",
    "\n",
    "dates_df=pd.DataFrame(dates).T\n",
    "genre_df=pd.DataFrame(genre).T\n",
    "gender_df=pd.DataFrame(gender).T\n",
    "\n",
    "d = {'Title': title_list, 'Artist': artist_list, 'Date':dates_df[0],'Genre':genre_df[0], 'Gender':gender_df[0]}\n",
    "\n",
    "df=pd.DataFrame(d)\n",
    "df"
   ]
  },
  {
   "cell_type": "code",
   "execution_count": 32,
   "metadata": {},
   "outputs": [],
   "source": [
    "df.index += 1\n",
    "df.to_csv(r'Billboard600.csv', index = False)"
   ]
  },
  {
   "cell_type": "code",
   "execution_count": null,
   "metadata": {},
   "outputs": [],
   "source": []
  },
  {
   "cell_type": "code",
   "execution_count": null,
   "metadata": {},
   "outputs": [],
   "source": []
  }
 ],
 "metadata": {
  "kernelspec": {
   "display_name": "Python 3",
   "language": "python",
   "name": "python3"
  },
  "language_info": {
   "codemirror_mode": {
    "name": "ipython",
    "version": 3
   },
   "file_extension": ".py",
   "mimetype": "text/x-python",
   "name": "python",
   "nbconvert_exporter": "python",
   "pygments_lexer": "ipython3",
   "version": "3.8.3"
  }
 },
 "nbformat": 4,
 "nbformat_minor": 4
}
